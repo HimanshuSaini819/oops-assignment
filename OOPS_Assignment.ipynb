{
  "nbformat": 4,
  "nbformat_minor": 0,
  "metadata": {
    "colab": {
      "provenance": []
    },
    "kernelspec": {
      "name": "python3",
      "display_name": "Python 3"
    },
    "language_info": {
      "name": "python"
    }
  },
  "cells": [
    {
      "cell_type": "code",
      "execution_count": 3,
      "metadata": {
        "colab": {
          "base_uri": "https://localhost:8080/"
        },
        "id": "_ie1X7VEU7me",
        "outputId": "84b92d53-9a3a-42c1-9c89-f28cb4457a0d"
      },
      "outputs": [
        {
          "output_type": "stream",
          "name": "stdout",
          "text": [
            "Car engine started\n",
            "Bike engine started\n"
          ]
        }
      ],
      "source": [
        "#Q1. What is Abstraction in OOPs? Explain with an example.\n",
        "\n",
        "#Abstraction in Object-Oriented Programming (OOP) is the process of hiding implementation details and showing only the necessary functionalities to the user. It focuses on what an object does rather than how it does it.\n",
        "\n",
        "\n",
        "from abc import ABC, abstractmethod\n",
        "\n",
        "class Vehicle(ABC):\n",
        "    @abstractmethod\n",
        "    def start_engine(self):\n",
        "        pass\n",
        "\n",
        "class Car(Vehicle):\n",
        "    def start_engine(self):\n",
        "        return \"Car engine started\"\n",
        "\n",
        "class Bike(Vehicle):\n",
        "    def start_engine(self):\n",
        "        return \"Bike engine started\"\n",
        "\n",
        "# Using abstraction\n",
        "car = Car()\n",
        "print(car.start_engine())\n",
        "bike = Bike()\n",
        "print(bike.start_engine())\n"
      ]
    },
    {
      "cell_type": "code",
      "source": [
        "#Q2. Differentiate between Abstraction and Encapsulation. Explain with an example.\n",
        "\n",
        "#Abstraction: Hides implementation details and focuses on the external functionalities of an object.\n",
        "\n",
        "#Encapsulation: Bundles data and methods that operate on the data into a single unit (class) and restricts direct access to some of the object's components.\n",
        "\n",
        "\n",
        "\n",
        "# Abstraction Example\n",
        "class AbstractVehicle(ABC):\n",
        "    @abstractmethod\n",
        "    def drive(self):\n",
        "        pass\n",
        "\n",
        "class Car(AbstractVehicle):\n",
        "    def drive(self):\n",
        "        return \"Driving a car\"\n",
        "\n",
        "# Encapsulation Example\n",
        "class EncapsulatedCar:\n",
        "    def _init_(self):\n",
        "        self.__speed = 0  # Private variable\n",
        "\n",
        "    def set_speed(self, speed):\n",
        "        if speed > 0:\n",
        "            self.__speed = speed\n",
        "\n",
        "    def get_speed(self):\n",
        "        return self.__speed\n",
        "\n",
        "# Demonstrate\n",
        "car = EncapsulatedCar()\n",
        "car.set_speed(50)\n",
        "print(car.get_speed())  # Encapsulation\n"
      ],
      "metadata": {
        "colab": {
          "base_uri": "https://localhost:8080/"
        },
        "id": "CdDiKylsVLbP",
        "outputId": "08da5af9-ffdb-4086-cd3a-317f632519a1"
      },
      "execution_count": 4,
      "outputs": [
        {
          "output_type": "stream",
          "name": "stdout",
          "text": [
            "50\n"
          ]
        }
      ]
    },
    {
      "cell_type": "code",
      "source": [
        "#Q3. What is the abc module in Python? Why is it used?\n",
        "\n",
        "#The abc module in Python stands for \"Abstract Base Classes.\" It is used to define abstract classes, which can only be instantiated if all their abstract methods are implemented in derived classes.\n",
        "\n",
        "#Purpose:\n",
        "\n",
        "#Provides a way to enforce that certain methods are implemented in subclasses.\n",
        "\n",
        "#Helps in achieving abstraction in Python.\n",
        "\n",
        "\n",
        "\n",
        "from abc import ABC, abstractmethod\n",
        "\n",
        "class Animal(ABC):\n",
        "    @abstractmethod\n",
        "    def sound(self):\n",
        "        pass\n",
        "\n",
        "class Dog(Animal):\n",
        "    def sound(self):\n",
        "        return \"Bark\"\n",
        "\n",
        "dog = Dog()\n",
        "print(dog.sound())\n"
      ],
      "metadata": {
        "colab": {
          "base_uri": "https://localhost:8080/"
        },
        "id": "8FTjaMezVzrI",
        "outputId": "dc6086ad-3a3a-4d1f-c600-12d764c744ad"
      },
      "execution_count": 5,
      "outputs": [
        {
          "output_type": "stream",
          "name": "stdout",
          "text": [
            "Bark\n"
          ]
        }
      ]
    },
    {
      "cell_type": "code",
      "source": [
        "#Q4. How can we achieve data abstraction?\n",
        "\n",
        "#We can achieve data abstraction in Python using:\n",
        "\n",
        "#1. Abstract classes and methods (abc module).\n",
        "\n",
        "\n",
        "#2. Hiding details using private attributes or methods.\n",
        "\n",
        "\n",
        "\n",
        "\n",
        "\n",
        "#Q4. How can we achieve data abstraction?\n",
        "\n",
        "#We can achieve data abstraction in Python using:\n",
        "\n",
        "#1. Abstract classes and methods (abc module).\n",
        "\n",
        "\n",
        "#2. Hiding details using private attributes or methods.\n",
        "\n",
        "\n",
        "\n",
        "#Example using abc:\n",
        "\n",
        "from abc import ABC, abstractmethod\n",
        "\n",
        "class Shape(ABC):\n",
        "    @abstractmethod\n",
        "    def area(self):\n",
        "        pass\n",
        "\n",
        "class Circle(Shape):\n",
        "    def __init__(self, radius):\n",
        "        self.radius = radius\n",
        "\n",
        "    def area(self):\n",
        "        # This line should be indented to be part of the area function\n",
        "        return 3.14 * self.radius ** 2\n",
        "\n",
        "circle = Circle(5)\n",
        "print(circle.area())"
      ],
      "metadata": {
        "colab": {
          "base_uri": "https://localhost:8080/"
        },
        "id": "FyWA_u80WV_n",
        "outputId": "7513a0e4-63bd-4b11-d6b0-5e54e1d7c43b"
      },
      "execution_count": 20,
      "outputs": [
        {
          "output_type": "stream",
          "name": "stdout",
          "text": [
            "78.5\n"
          ]
        }
      ]
    },
    {
      "cell_type": "code",
      "source": [
        "#Example using private attributes:\n",
        "\n",
        "class Account:\n",
        "    def __init__(self, balance): # Changed _init_ to __init__\n",
        "        self.__balance = balance  # Private attribute\n",
        "\n",
        "    def get_balance(self):\n",
        "        return self.__balance\n",
        "\n",
        "account = Account(1000)\n",
        "print(account.get_balance())\n"
      ],
      "metadata": {
        "colab": {
          "base_uri": "https://localhost:8080/"
        },
        "id": "Awce9zl-XQCM",
        "outputId": "da8c0693-414f-4053-9447-e127228d9e46"
      },
      "execution_count": 18,
      "outputs": [
        {
          "output_type": "stream",
          "name": "stdout",
          "text": [
            "1000\n"
          ]
        }
      ]
    },
    {
      "cell_type": "code",
      "source": [
        "#Q5. Can we create an instance of an abstract class? Explain your answer.\n",
        "\n",
        "#No, we cannot create an instance of an abstract class. Abstract classes are meant to be inherited, and their abstract methods must be implemented in derived classes.\n",
        "\n",
        "\n",
        "from abc import ABC, abstractmethod\n",
        "\n",
        "class AbstractAnimal(ABC):\n",
        "    @abstractmethod\n",
        "    def eat(self):\n",
        "        pass\n",
        "\n",
        "# AbstractAnimal()  # This will raise an error because it's abstract\n",
        "\n",
        "class Cat(AbstractAnimal):\n",
        "    def eat(self):\n",
        "        return \"Cat is eating\"\n",
        "\n",
        "cat = Cat()\n",
        "print(cat.eat())\n"
      ],
      "metadata": {
        "colab": {
          "base_uri": "https://localhost:8080/"
        },
        "id": "AM4WgOMlXidn",
        "outputId": "4953991a-b31d-42b9-a9c8-2ed0dc695aa4"
      },
      "execution_count": 21,
      "outputs": [
        {
          "output_type": "stream",
          "name": "stdout",
          "text": [
            "Cat is eating\n"
          ]
        }
      ]
    },
    {
      "cell_type": "code",
      "source": [],
      "metadata": {
        "id": "tyzXvPFPYfRi"
      },
      "execution_count": null,
      "outputs": []
    }
  ]
}